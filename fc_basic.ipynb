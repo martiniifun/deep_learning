{
 "cells": [
  {
   "cell_type": "code",
   "execution_count": 40,
   "id": "initial_id",
   "metadata": {
    "collapsed": true,
    "ExecuteTime": {
     "end_time": "2023-10-31T04:31:15.566439400Z",
     "start_time": "2023-10-31T04:31:15.544438400Z"
    }
   },
   "outputs": [],
   "source": [
    "from keras.models import Sequential\n",
    "from keras.layers import Dense, Activation\n",
    "from keras.utils import to_categorical\n",
    "from keras.datasets import mnist"
   ]
  },
  {
   "cell_type": "code",
   "execution_count": 41,
   "outputs": [],
   "source": [
    "(X_train, y_train), (X_test, y_test) = mnist.load_data()"
   ],
   "metadata": {
    "collapsed": false,
    "ExecuteTime": {
     "end_time": "2023-10-31T04:31:16.100031500Z",
     "start_time": "2023-10-31T04:31:15.861000900Z"
    }
   },
   "id": "938cbfe338474034"
  },
  {
   "cell_type": "code",
   "execution_count": 42,
   "outputs": [],
   "source": [
    "X_train = X_train.astype('float32') / 255\n",
    "X_test = X_test.astype('float32') / 255"
   ],
   "metadata": {
    "collapsed": false,
    "ExecuteTime": {
     "end_time": "2023-10-31T04:31:16.364573700Z",
     "start_time": "2023-10-31T04:31:16.270039200Z"
    }
   },
   "id": "4faabee280b9dbe4"
  },
  {
   "cell_type": "code",
   "execution_count": 43,
   "outputs": [],
   "source": [
    "input_dim = 28 * 28  # 784\n",
    "X_train = X_train.reshape(60000, input_dim)\n",
    "X_test = X_test.reshape(10000, input_dim)"
   ],
   "metadata": {
    "collapsed": false,
    "ExecuteTime": {
     "end_time": "2023-10-31T04:31:17.470126Z",
     "start_time": "2023-10-31T04:31:17.462090800Z"
    }
   },
   "id": "afff02e11ce5f284"
  },
  {
   "cell_type": "code",
   "execution_count": 44,
   "outputs": [],
   "source": [
    "num_classes = 10\n",
    "y_train = to_categorical(y_train, num_classes)\n",
    "y_test = to_categorical(y_test, num_classes)"
   ],
   "metadata": {
    "collapsed": false,
    "ExecuteTime": {
     "end_time": "2023-10-31T04:31:17.979590200Z",
     "start_time": "2023-10-31T04:31:17.957586500Z"
    }
   },
   "id": "9a5c64aec9c0cb31"
  },
  {
   "cell_type": "code",
   "execution_count": 45,
   "outputs": [],
   "source": [
    "model = Sequential()\n",
    "model.add(Dense(input_dim=input_dim,\n",
    "                units=10,\n",
    "                activation='softmax'))"
   ],
   "metadata": {
    "collapsed": false,
    "ExecuteTime": {
     "end_time": "2023-10-31T04:31:18.502583200Z",
     "start_time": "2023-10-31T04:31:18.485585400Z"
    }
   },
   "id": "ee9f001370b5826"
  },
  {
   "cell_type": "code",
   "execution_count": 46,
   "outputs": [],
   "source": [
    "model.compile(optimizer='sgd',\n",
    "              loss='categorical_crossentropy',\n",
    "              metrics=['accuracy'])"
   ],
   "metadata": {
    "collapsed": false,
    "ExecuteTime": {
     "end_time": "2023-10-31T04:31:18.992319500Z",
     "start_time": "2023-10-31T04:31:18.979319200Z"
    }
   },
   "id": "26ff6ae6f1cd13ff"
  },
  {
   "cell_type": "code",
   "execution_count": 47,
   "outputs": [
    {
     "name": "stdout",
     "output_type": "stream",
     "text": [
      "Epoch 1/100\n",
      "30/30 [==============================] - 0s 4ms/step - loss: 2.2139 - accuracy: 0.1889\n",
      "Epoch 2/100\n",
      "30/30 [==============================] - 0s 5ms/step - loss: 1.9359 - accuracy: 0.4575\n",
      "Epoch 3/100\n",
      "30/30 [==============================] - 0s 7ms/step - loss: 1.7244 - accuracy: 0.6130\n",
      "Epoch 4/100\n",
      "30/30 [==============================] - 0s 5ms/step - loss: 1.5566 - accuracy: 0.6775\n",
      "Epoch 5/100\n",
      "30/30 [==============================] - 0s 4ms/step - loss: 1.4220 - accuracy: 0.7163\n",
      "Epoch 6/100\n",
      "30/30 [==============================] - 0s 4ms/step - loss: 1.3131 - accuracy: 0.7427\n",
      "Epoch 7/100\n",
      "30/30 [==============================] - 0s 4ms/step - loss: 1.2239 - accuracy: 0.7608\n",
      "Epoch 8/100\n",
      "30/30 [==============================] - 0s 4ms/step - loss: 1.1499 - accuracy: 0.7765\n",
      "Epoch 9/100\n",
      "30/30 [==============================] - 0s 4ms/step - loss: 1.0876 - accuracy: 0.7874\n",
      "Epoch 10/100\n",
      "30/30 [==============================] - 0s 4ms/step - loss: 1.0347 - accuracy: 0.7973\n",
      "Epoch 11/100\n",
      "30/30 [==============================] - 0s 4ms/step - loss: 0.9891 - accuracy: 0.8047\n",
      "Epoch 12/100\n",
      "30/30 [==============================] - 0s 4ms/step - loss: 0.9496 - accuracy: 0.8108\n",
      "Epoch 13/100\n",
      "30/30 [==============================] - 0s 4ms/step - loss: 0.9149 - accuracy: 0.8160\n",
      "Epoch 14/100\n",
      "30/30 [==============================] - 0s 4ms/step - loss: 0.8843 - accuracy: 0.8204\n",
      "Epoch 15/100\n",
      "30/30 [==============================] - 0s 4ms/step - loss: 0.8570 - accuracy: 0.8245\n",
      "Epoch 16/100\n",
      "30/30 [==============================] - 0s 4ms/step - loss: 0.8325 - accuracy: 0.8278\n",
      "Epoch 17/100\n",
      "30/30 [==============================] - 0s 4ms/step - loss: 0.8104 - accuracy: 0.8307\n",
      "Epoch 18/100\n",
      "30/30 [==============================] - 0s 6ms/step - loss: 0.7904 - accuracy: 0.8339\n",
      "Epoch 19/100\n",
      "30/30 [==============================] - 0s 7ms/step - loss: 0.7722 - accuracy: 0.8361\n",
      "Epoch 20/100\n",
      "30/30 [==============================] - 0s 7ms/step - loss: 0.7555 - accuracy: 0.8380\n",
      "Epoch 21/100\n",
      "30/30 [==============================] - 0s 4ms/step - loss: 0.7401 - accuracy: 0.8406\n",
      "Epoch 22/100\n",
      "30/30 [==============================] - 0s 4ms/step - loss: 0.7259 - accuracy: 0.8425\n",
      "Epoch 23/100\n",
      "30/30 [==============================] - 0s 4ms/step - loss: 0.7128 - accuracy: 0.8443\n",
      "Epoch 24/100\n",
      "30/30 [==============================] - 0s 4ms/step - loss: 0.7006 - accuracy: 0.8459\n",
      "Epoch 25/100\n",
      "30/30 [==============================] - 0s 4ms/step - loss: 0.6892 - accuracy: 0.8467\n",
      "Epoch 26/100\n",
      "30/30 [==============================] - 0s 4ms/step - loss: 0.6785 - accuracy: 0.8479\n",
      "Epoch 27/100\n",
      "30/30 [==============================] - 0s 4ms/step - loss: 0.6686 - accuracy: 0.8494\n",
      "Epoch 28/100\n",
      "30/30 [==============================] - 0s 4ms/step - loss: 0.6593 - accuracy: 0.8506\n",
      "Epoch 29/100\n",
      "30/30 [==============================] - 0s 4ms/step - loss: 0.6505 - accuracy: 0.8516\n",
      "Epoch 30/100\n",
      "30/30 [==============================] - 0s 4ms/step - loss: 0.6422 - accuracy: 0.8531\n",
      "Epoch 31/100\n",
      "30/30 [==============================] - 0s 5ms/step - loss: 0.6343 - accuracy: 0.8542\n",
      "Epoch 32/100\n",
      "30/30 [==============================] - 0s 7ms/step - loss: 0.6269 - accuracy: 0.8550\n",
      "Epoch 33/100\n",
      "30/30 [==============================] - 0s 6ms/step - loss: 0.6198 - accuracy: 0.8558\n",
      "Epoch 34/100\n",
      "30/30 [==============================] - 0s 5ms/step - loss: 0.6132 - accuracy: 0.8566\n",
      "Epoch 35/100\n",
      "30/30 [==============================] - 0s 4ms/step - loss: 0.6068 - accuracy: 0.8576\n",
      "Epoch 36/100\n",
      "30/30 [==============================] - 0s 4ms/step - loss: 0.6007 - accuracy: 0.8585\n",
      "Epoch 37/100\n",
      "30/30 [==============================] - 0s 4ms/step - loss: 0.5949 - accuracy: 0.8592\n",
      "Epoch 38/100\n",
      "30/30 [==============================] - 0s 4ms/step - loss: 0.5894 - accuracy: 0.8602\n",
      "Epoch 39/100\n",
      "30/30 [==============================] - 0s 4ms/step - loss: 0.5842 - accuracy: 0.8609\n",
      "Epoch 40/100\n",
      "30/30 [==============================] - 0s 4ms/step - loss: 0.5791 - accuracy: 0.8617\n",
      "Epoch 41/100\n",
      "30/30 [==============================] - 0s 4ms/step - loss: 0.5742 - accuracy: 0.8623\n",
      "Epoch 42/100\n",
      "30/30 [==============================] - 0s 4ms/step - loss: 0.5696 - accuracy: 0.8632\n",
      "Epoch 43/100\n",
      "30/30 [==============================] - 0s 4ms/step - loss: 0.5651 - accuracy: 0.8635\n",
      "Epoch 44/100\n",
      "30/30 [==============================] - 0s 4ms/step - loss: 0.5608 - accuracy: 0.8643\n",
      "Epoch 45/100\n",
      "30/30 [==============================] - 0s 4ms/step - loss: 0.5567 - accuracy: 0.8651\n",
      "Epoch 46/100\n",
      "30/30 [==============================] - 0s 4ms/step - loss: 0.5527 - accuracy: 0.8658\n",
      "Epoch 47/100\n",
      "30/30 [==============================] - 0s 4ms/step - loss: 0.5489 - accuracy: 0.8664\n",
      "Epoch 48/100\n",
      "30/30 [==============================] - 0s 4ms/step - loss: 0.5452 - accuracy: 0.8669\n",
      "Epoch 49/100\n",
      "30/30 [==============================] - 0s 4ms/step - loss: 0.5416 - accuracy: 0.8674\n",
      "Epoch 50/100\n",
      "30/30 [==============================] - 0s 4ms/step - loss: 0.5381 - accuracy: 0.8679\n",
      "Epoch 51/100\n",
      "30/30 [==============================] - 0s 4ms/step - loss: 0.5348 - accuracy: 0.8683\n",
      "Epoch 52/100\n",
      "30/30 [==============================] - 0s 4ms/step - loss: 0.5315 - accuracy: 0.8691\n",
      "Epoch 53/100\n",
      "30/30 [==============================] - 0s 4ms/step - loss: 0.5284 - accuracy: 0.8695\n",
      "Epoch 54/100\n",
      "30/30 [==============================] - 0s 4ms/step - loss: 0.5254 - accuracy: 0.8704\n",
      "Epoch 55/100\n",
      "30/30 [==============================] - 0s 4ms/step - loss: 0.5224 - accuracy: 0.8708\n",
      "Epoch 56/100\n",
      "30/30 [==============================] - 0s 5ms/step - loss: 0.5196 - accuracy: 0.8711\n",
      "Epoch 57/100\n",
      "30/30 [==============================] - 0s 4ms/step - loss: 0.5168 - accuracy: 0.8715\n",
      "Epoch 58/100\n",
      "30/30 [==============================] - 0s 4ms/step - loss: 0.5141 - accuracy: 0.8720\n",
      "Epoch 59/100\n",
      "30/30 [==============================] - 0s 6ms/step - loss: 0.5115 - accuracy: 0.8725\n",
      "Epoch 60/100\n",
      "30/30 [==============================] - 0s 5ms/step - loss: 0.5089 - accuracy: 0.8727\n",
      "Epoch 61/100\n",
      "30/30 [==============================] - 0s 4ms/step - loss: 0.5065 - accuracy: 0.8732\n",
      "Epoch 62/100\n",
      "30/30 [==============================] - 0s 4ms/step - loss: 0.5041 - accuracy: 0.8736\n",
      "Epoch 63/100\n",
      "30/30 [==============================] - 0s 4ms/step - loss: 0.5017 - accuracy: 0.8738\n",
      "Epoch 64/100\n",
      "30/30 [==============================] - 0s 4ms/step - loss: 0.4994 - accuracy: 0.8743\n",
      "Epoch 65/100\n",
      "30/30 [==============================] - 0s 4ms/step - loss: 0.4972 - accuracy: 0.8746\n",
      "Epoch 66/100\n",
      "30/30 [==============================] - 0s 4ms/step - loss: 0.4950 - accuracy: 0.8749\n",
      "Epoch 67/100\n",
      "30/30 [==============================] - 0s 4ms/step - loss: 0.4929 - accuracy: 0.8753\n",
      "Epoch 68/100\n",
      "30/30 [==============================] - 0s 4ms/step - loss: 0.4909 - accuracy: 0.8754\n",
      "Epoch 69/100\n",
      "30/30 [==============================] - 0s 4ms/step - loss: 0.4888 - accuracy: 0.8758\n",
      "Epoch 70/100\n",
      "30/30 [==============================] - 0s 4ms/step - loss: 0.4869 - accuracy: 0.8762\n",
      "Epoch 71/100\n",
      "30/30 [==============================] - 0s 4ms/step - loss: 0.4850 - accuracy: 0.8763\n",
      "Epoch 72/100\n",
      "30/30 [==============================] - 0s 4ms/step - loss: 0.4831 - accuracy: 0.8766\n",
      "Epoch 73/100\n",
      "30/30 [==============================] - 0s 4ms/step - loss: 0.4813 - accuracy: 0.8770\n",
      "Epoch 74/100\n",
      "30/30 [==============================] - 0s 4ms/step - loss: 0.4795 - accuracy: 0.8776\n",
      "Epoch 75/100\n",
      "30/30 [==============================] - 0s 4ms/step - loss: 0.4777 - accuracy: 0.8778\n",
      "Epoch 76/100\n",
      "30/30 [==============================] - 0s 4ms/step - loss: 0.4760 - accuracy: 0.8783\n",
      "Epoch 77/100\n",
      "30/30 [==============================] - 0s 4ms/step - loss: 0.4743 - accuracy: 0.8784\n",
      "Epoch 78/100\n",
      "30/30 [==============================] - 0s 4ms/step - loss: 0.4727 - accuracy: 0.8786\n",
      "Epoch 79/100\n",
      "30/30 [==============================] - 0s 4ms/step - loss: 0.4711 - accuracy: 0.8789\n",
      "Epoch 80/100\n",
      "30/30 [==============================] - 0s 4ms/step - loss: 0.4695 - accuracy: 0.8792\n",
      "Epoch 81/100\n",
      "30/30 [==============================] - 0s 4ms/step - loss: 0.4679 - accuracy: 0.8794\n",
      "Epoch 82/100\n",
      "30/30 [==============================] - 0s 4ms/step - loss: 0.4664 - accuracy: 0.8796\n",
      "Epoch 83/100\n",
      "30/30 [==============================] - 0s 4ms/step - loss: 0.4649 - accuracy: 0.8799\n",
      "Epoch 84/100\n",
      "30/30 [==============================] - 0s 4ms/step - loss: 0.4635 - accuracy: 0.8802\n",
      "Epoch 85/100\n",
      "30/30 [==============================] - 0s 4ms/step - loss: 0.4621 - accuracy: 0.8803\n",
      "Epoch 86/100\n",
      "30/30 [==============================] - 0s 4ms/step - loss: 0.4607 - accuracy: 0.8806\n",
      "Epoch 87/100\n",
      "30/30 [==============================] - 0s 4ms/step - loss: 0.4593 - accuracy: 0.8809\n",
      "Epoch 88/100\n",
      "30/30 [==============================] - 0s 4ms/step - loss: 0.4579 - accuracy: 0.8812\n",
      "Epoch 89/100\n",
      "30/30 [==============================] - 0s 4ms/step - loss: 0.4566 - accuracy: 0.8813\n",
      "Epoch 90/100\n",
      "30/30 [==============================] - 0s 4ms/step - loss: 0.4553 - accuracy: 0.8816\n",
      "Epoch 91/100\n",
      "30/30 [==============================] - 0s 4ms/step - loss: 0.4540 - accuracy: 0.8818\n",
      "Epoch 92/100\n",
      "30/30 [==============================] - 0s 4ms/step - loss: 0.4528 - accuracy: 0.8820\n",
      "Epoch 93/100\n",
      "30/30 [==============================] - 0s 4ms/step - loss: 0.4515 - accuracy: 0.8821\n",
      "Epoch 94/100\n",
      "30/30 [==============================] - 0s 4ms/step - loss: 0.4503 - accuracy: 0.8824\n",
      "Epoch 95/100\n",
      "30/30 [==============================] - 0s 4ms/step - loss: 0.4491 - accuracy: 0.8828\n",
      "Epoch 96/100\n",
      "30/30 [==============================] - 0s 4ms/step - loss: 0.4480 - accuracy: 0.8828\n",
      "Epoch 97/100\n",
      "30/30 [==============================] - 0s 4ms/step - loss: 0.4468 - accuracy: 0.8829\n",
      "Epoch 98/100\n",
      "30/30 [==============================] - 0s 4ms/step - loss: 0.4457 - accuracy: 0.8832\n",
      "Epoch 99/100\n",
      "30/30 [==============================] - 0s 4ms/step - loss: 0.4446 - accuracy: 0.8833\n",
      "Epoch 100/100\n",
      "30/30 [==============================] - 0s 4ms/step - loss: 0.4435 - accuracy: 0.8835\n"
     ]
    }
   ],
   "source": [
    "hist = model.fit(X_train, y_train,\n",
    "                 batch_size=2048,\n",
    "                 epochs=100)"
   ],
   "metadata": {
    "collapsed": false,
    "ExecuteTime": {
     "end_time": "2023-10-31T04:31:40.253798900Z",
     "start_time": "2023-10-31T04:31:19.456929900Z"
    }
   },
   "id": "ae47aff56f8c58ec"
  },
  {
   "cell_type": "code",
   "execution_count": 48,
   "outputs": [
    {
     "name": "stdout",
     "output_type": "stream",
     "text": [
      "313/313 [==============================] - 0s 1ms/step - loss: 0.4220 - accuracy: 0.8904\n",
      "Test accuracy:  0.8903999924659729\n"
     ]
    }
   ],
   "source": [
    "score = model.evaluate(X_test, y_test)\n",
    "print('Test accuracy: ', score[1])"
   ],
   "metadata": {
    "collapsed": false,
    "ExecuteTime": {
     "end_time": "2023-10-31T04:31:41.848020200Z",
     "start_time": "2023-10-31T04:31:41.254577500Z"
    }
   },
   "id": "883d2ed98d0aeac9"
  },
  {
   "cell_type": "code",
   "execution_count": 49,
   "outputs": [
    {
     "name": "stdout",
     "output_type": "stream",
     "text": [
      "[0. 0. 0. 0. 0. 1. 0. 0. 0. 0.]\n"
     ]
    }
   ],
   "source": [
    "print(y_train[0])"
   ],
   "metadata": {
    "collapsed": false,
    "ExecuteTime": {
     "end_time": "2023-10-31T04:31:44.034137Z",
     "start_time": "2023-10-31T04:31:44.015290100Z"
    }
   },
   "id": "51b37a82bb38d88a"
  },
  {
   "cell_type": "code",
   "execution_count": 50,
   "outputs": [
    {
     "data": {
      "text/plain": "<matplotlib.image.AxesImage at 0x7f29e5337220>"
     },
     "execution_count": 50,
     "metadata": {},
     "output_type": "execute_result"
    },
    {
     "data": {
      "text/plain": "<Figure size 640x480 with 1 Axes>",
      "image/png": "[encoded data removed]"
     },
     "metadata": {},
     "output_type": "display_data"
    }
   ],
   "source": [
    "import matplotlib.pyplot as plt\n",
    "\n",
    "plt.imshow(X_train[0].reshape(28, 28))"
   ],
   "metadata": {
    "collapsed": false
   },
   "id": "733b550e6722e14d"
  },
  {
   "cell_type": "code",
   "execution_count": 52,
   "outputs": [
    {
     "name": "stdout",
     "output_type": "stream",
     "text": [
      "5\n"
     ]
    }
   ],
   "source": [
    "print(y_train[0].argmax())  # 정답입니다!"
   ],
   "metadata": {
    "collapsed": false
   },
   "id": "7c6fc95fc8b20525"
  }
 ],
 "metadata": {
  "kernelspec": {
   "display_name": "Python 3",
   "language": "python",
   "name": "python3"
  },
  "language_info": {
   "codemirror_mode": {
    "name": "ipython",
    "version": 2
   },
   "file_extension": ".py",
   "mimetype": "text/x-python",
   "name": "python",
   "nbconvert_exporter": "python",
   "pygments_lexer": "ipython2",
   "version": "2.7.6"
  }
 },
 "nbformat": 4,
 "nbformat_minor": 5
}
