{
 "cells": [
  {
   "cell_type": "code",
   "execution_count": 34,
   "id": "initial_id",
   "metadata": {
    "collapsed": true,
    "ExecuteTime": {
     "end_time": "2023-10-31T05:29:56.017862100Z",
     "start_time": "2023-10-31T05:29:55.941766100Z"
    }
   },
   "outputs": [],
   "source": [
    "from keras import Sequential\n",
    "from keras.layers import Dense\n",
    "import numpy as np\n",
    "import matplotlib.pyplot as plt"
   ]
  },
  {
   "cell_type": "code",
   "execution_count": 35,
   "outputs": [],
   "source": [
    "X = np.array([1, 2])\n",
    "y = np.array([300, 500])"
   ],
   "metadata": {
    "collapsed": false,
    "ExecuteTime": {
     "end_time": "2023-10-31T05:29:56.017862100Z",
     "start_time": "2023-10-31T05:29:55.960525Z"
    }
   },
   "id": "8bea6c70e71d246b"
  },
  {
   "cell_type": "code",
   "execution_count": 36,
   "outputs": [],
   "source": [
    "# model = Sequential()\n",
    "# model.add(Dense(input_dim=1, units=1))\n",
    "\n",
    "model = Sequential([Dense(input_dim=1, units=1)])"
   ],
   "metadata": {
    "collapsed": false,
    "ExecuteTime": {
     "end_time": "2023-10-31T05:29:56.056831400Z",
     "start_time": "2023-10-31T05:29:55.964554200Z"
    }
   },
   "id": "f96e7330b97b3ee3"
  },
  {
   "cell_type": "code",
   "execution_count": 37,
   "outputs": [],
   "source": [
    "# sgd: stochastic gradient descent\n",
    "# 아직은 alpha(learning_rate)가 디폴트임.\n",
    "model.compile(optimizer=\"sgd\", loss=\"mse\")"
   ],
   "metadata": {
    "collapsed": false,
    "ExecuteTime": {
     "end_time": "2023-10-31T05:29:56.056831400Z",
     "start_time": "2023-10-31T05:29:55.994041100Z"
    }
   },
   "id": "b1445841aa4a8744"
  },
  {
   "cell_type": "code",
   "execution_count": 38,
   "outputs": [
    {
     "name": "stdout",
     "output_type": "stream",
     "text": [
      "Epoch 1/20\n",
      "2/2 [==============================] - 0s 4ms/step - loss: 159359.2969\n",
      "Epoch 2/20\n",
      "2/2 [==============================] - 0s 4ms/step - loss: 119489.4375\n",
      "Epoch 3/20\n",
      "2/2 [==============================] - 0s 3ms/step - loss: 89897.4453\n",
      "Epoch 4/20\n",
      "2/2 [==============================] - 0s 4ms/step - loss: 67533.7188\n",
      "Epoch 5/20\n",
      "2/2 [==============================] - 0s 3ms/step - loss: 50643.2344\n",
      "Epoch 6/20\n",
      "2/2 [==============================] - 0s 4ms/step - loss: 38105.4102\n",
      "Epoch 7/20\n",
      "2/2 [==============================] - 0s 4ms/step - loss: 28578.9004\n",
      "Epoch 8/20\n",
      "2/2 [==============================] - 0s 4ms/step - loss: 21465.4141\n",
      "Epoch 9/20\n",
      "2/2 [==============================] - 0s 3ms/step - loss: 16123.6973\n",
      "Epoch 10/20\n",
      "2/2 [==============================] - 0s 3ms/step - loss: 12112.4941\n",
      "Epoch 11/20\n",
      "2/2 [==============================] - 0s 4ms/step - loss: 9100.4395\n",
      "Epoch 12/20\n",
      "2/2 [==============================] - 0s 3ms/step - loss: 6838.6870\n",
      "Epoch 13/20\n",
      "2/2 [==============================] - 0s 3ms/step - loss: 5151.3105\n",
      "Epoch 14/20\n",
      "2/2 [==============================] - 0s 3ms/step - loss: 3878.3130\n",
      "Epoch 15/20\n",
      "2/2 [==============================] - 0s 3ms/step - loss: 2915.1895\n",
      "Epoch 16/20\n",
      "2/2 [==============================] - 0s 3ms/step - loss: 2194.3005\n",
      "Epoch 17/20\n",
      "2/2 [==============================] - 0s 3ms/step - loss: 1653.0345\n",
      "Epoch 18/20\n",
      "2/2 [==============================] - 0s 3ms/step - loss: 1246.6407\n",
      "Epoch 19/20\n",
      "2/2 [==============================] - 0s 4ms/step - loss: 941.5217\n",
      "Epoch 20/20\n",
      "2/2 [==============================] - 0s 4ms/step - loss: 714.3938\n"
     ]
    }
   ],
   "source": [
    "# 학습\n",
    "hist = model.fit(X, y, batch_size=1, epochs=20)"
   ],
   "metadata": {
    "collapsed": false,
    "ExecuteTime": {
     "end_time": "2023-10-31T05:29:56.389353100Z",
     "start_time": "2023-10-31T05:29:56.010832300Z"
    }
   },
   "id": "1e5347fa4c0b11a5"
  },
  {
   "cell_type": "code",
   "execution_count": 39,
   "outputs": [
    {
     "name": "stdout",
     "output_type": "stream",
     "text": [
      "1/1 [==============================] - 0s 58ms/step - loss: 563.7247\n"
     ]
    },
    {
     "data": {
      "text/plain": "563.7247314453125"
     },
     "execution_count": 39,
     "metadata": {},
     "output_type": "execute_result"
    }
   ],
   "source": [
    "model.evaluate(X, y)"
   ],
   "metadata": {
    "collapsed": false,
    "ExecuteTime": {
     "end_time": "2023-10-31T05:29:56.489359500Z",
     "start_time": "2023-10-31T05:29:56.392357300Z"
    }
   },
   "id": "7b3f3a0bc0fe335f"
  },
  {
   "cell_type": "code",
   "execution_count": 40,
   "outputs": [
    {
     "data": {
      "text/plain": "[array([[179.98994]], dtype=float32), array([108.48315], dtype=float32)]"
     },
     "execution_count": 40,
     "metadata": {},
     "output_type": "execute_result"
    }
   ],
   "source": [
    "model.get_weights()"
   ],
   "metadata": {
    "collapsed": false,
    "ExecuteTime": {
     "end_time": "2023-10-31T05:29:56.503355600Z",
     "start_time": "2023-10-31T05:29:56.488978Z"
    }
   },
   "id": "8e5c760702800938"
  },
  {
   "cell_type": "code",
   "execution_count": 41,
   "outputs": [
    {
     "name": "stdout",
     "output_type": "stream",
     "text": [
      "1/1 [==============================] - 0s 47ms/step\n"
     ]
    },
    {
     "data": {
      "text/plain": "array([[648.453]], dtype=float32)"
     },
     "execution_count": 41,
     "metadata": {},
     "output_type": "execute_result"
    }
   ],
   "source": [
    "model.predict([3])"
   ],
   "metadata": {
    "collapsed": false,
    "ExecuteTime": {
     "end_time": "2023-10-31T05:29:56.596360600Z",
     "start_time": "2023-10-31T05:29:56.498358Z"
    }
   },
   "id": "f17c1fb04ea49f5d"
  },
  {
   "cell_type": "code",
   "execution_count": 42,
   "outputs": [
    {
     "name": "stdout",
     "output_type": "stream",
     "text": [
      "1/1 [==============================] - 0s 65ms/step\n",
      "1/1 [==============================] - 0s 28ms/step\n"
     ]
    },
    {
     "data": {
      "text/plain": "<matplotlib.collections.PathCollection at 0x7f5b0c6d2c50>"
     },
     "execution_count": 42,
     "metadata": {},
     "output_type": "execute_result"
    },
    {
     "data": {
      "text/plain": "<Figure size 640x480 with 1 Axes>",
      "image/png": "[encoded data removed]"
     },
     "metadata": {},
     "output_type": "display_data"
    }
   ],
   "source": [
    "plt.plot(X, y)\n",
    "plt.scatter(1.5, model.predict([1.5]))\n",
    "plt.scatter(1.3, model.predict([1.3]))"
   ],
   "metadata": {
    "collapsed": false,
    "ExecuteTime": {
     "end_time": "2023-10-31T05:29:56.948892700Z",
     "start_time": "2023-10-31T05:29:56.633366Z"
    }
   },
   "id": "244e8637b9388298"
  },
  {
   "cell_type": "code",
   "execution_count": 42,
   "outputs": [],
   "source": [],
   "metadata": {
    "collapsed": false,
    "ExecuteTime": {
     "end_time": "2023-10-31T05:29:56.950866500Z",
     "start_time": "2023-10-31T05:29:56.947876500Z"
    }
   },
   "id": "8c157828cb2ebcd4"
  }
 ],
 "metadata": {
  "kernelspec": {
   "display_name": "Python 3",
   "language": "python",
   "name": "python3"
  },
  "language_info": {
   "codemirror_mode": {
    "name": "ipython",
    "version": 2
   },
   "file_extension": ".py",
   "mimetype": "text/x-python",
   "name": "python",
   "nbconvert_exporter": "python",
   "pygments_lexer": "ipython2",
   "version": "2.7.6"
  }
 },
 "nbformat": 4,
 "nbformat_minor": 5
}
