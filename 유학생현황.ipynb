{
 "cells": [
  {
   "cell_type": "code",
   "execution_count": 1,
   "id": "initial_id",
   "metadata": {
    "collapsed": true,
    "ExecuteTime": {
     "end_time": "2023-10-31T07:53:32.447452300Z",
     "start_time": "2023-10-31T07:53:32.179176600Z"
    }
   },
   "outputs": [],
   "source": [
    "import pandas as pd"
   ]
  },
  {
   "cell_type": "code",
   "execution_count": 16,
   "outputs": [],
   "source": [
    "# %pip install openpyxl\n",
    "df = pd.read_excel(\"./20231031_유학생현황.xlsx\",\n",
    "                   sheet_name=\"2019\",\n",
    "                   index_col=\"구분\")"
   ],
   "metadata": {
    "collapsed": false,
    "ExecuteTime": {
     "end_time": "2023-10-31T08:14:41.241223900Z",
     "start_time": "2023-10-31T08:14:41.226330100Z"
    }
   },
   "id": "dee7cb75d76dc665"
  },
  {
   "cell_type": "code",
   "execution_count": 17,
   "outputs": [],
   "source": [
    "for i in range(2020, 2024):\n",
    "    df = pd.concat([df, pd.read_excel(\n",
    "        \"./20231031_유학생현황.xlsx\",\n",
    "        sheet_name=f\"{i}\",\n",
    "        index_col=\"구분\")], axis=1)"
   ],
   "metadata": {
    "collapsed": false,
    "ExecuteTime": {
     "end_time": "2023-10-31T08:14:41.659694500Z",
     "start_time": "2023-10-31T08:14:41.571700600Z"
    }
   },
   "id": "487761ee85afdf38"
  },
  {
   "cell_type": "code",
   "execution_count": 19,
   "outputs": [],
   "source": [
    "df = df.fillna(0.0)"
   ],
   "metadata": {
    "collapsed": false,
    "ExecuteTime": {
     "end_time": "2023-10-31T08:15:07.195127900Z",
     "start_time": "2023-10-31T08:15:07.158115Z"
    }
   },
   "id": "29680044c592d079"
  },
  {
   "cell_type": "code",
   "execution_count": 20,
   "outputs": [],
   "source": [
    "df.to_excel(\"result.xlsx\")"
   ],
   "metadata": {
    "collapsed": false,
    "ExecuteTime": {
     "end_time": "2023-10-31T08:15:41.245047200Z",
     "start_time": "2023-10-31T08:15:41.204279600Z"
    }
   },
   "id": "98e971be173acb6f"
  }
 ],
 "metadata": {
  "kernelspec": {
   "display_name": "Python 3",
   "language": "python",
   "name": "python3"
  },
  "language_info": {
   "codemirror_mode": {
    "name": "ipython",
    "version": 2
   },
   "file_extension": ".py",
   "mimetype": "text/x-python",
   "name": "python",
   "nbconvert_exporter": "python",
   "pygments_lexer": "ipython2",
   "version": "2.7.6"
  }
 },
 "nbformat": 4,
 "nbformat_minor": 5
}
