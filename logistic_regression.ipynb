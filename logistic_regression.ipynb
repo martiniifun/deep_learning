{
 "cells": [
  {
   "cell_type": "code",
   "execution_count": 1,
   "id": "initial_id",
   "metadata": {
    "collapsed": true,
    "ExecuteTime": {
     "end_time": "2023-10-31T06:16:07.334944500Z",
     "start_time": "2023-10-31T06:16:07.329944800Z"
    }
   },
   "outputs": [],
   "source": [
    "# 이 종양이 악성이냐 양성이냐?\n",
    "#           malignant vs benign"
   ]
  },
  {
   "cell_type": "code",
   "execution_count": 3,
   "outputs": [],
   "source": [
    "# 타겟 : 악성(1), 양성(0)\n",
    "# 이미지 데이터 X\n",
    "# 표데이터"
   ],
   "metadata": {
    "collapsed": false,
    "ExecuteTime": {
     "end_time": "2023-10-31T06:17:29.338767900Z",
     "start_time": "2023-10-31T06:17:29.333792Z"
    }
   },
   "id": "f9bf1ff383c13474"
  },
  {
   "cell_type": "code",
   "execution_count": null,
   "outputs": [],
   "source": [
    "import numpy as np\n",
    "\n",
    "# w1*x1 + w2*x2 + w3*x3 + w4*x4 + x5*x5 + ... + w20*x20 + b"
   ],
   "metadata": {
    "collapsed": false
   },
   "id": "5ef6df57f9bd5acb"
  },
  {
   "cell_type": "code",
   "execution_count": 4,
   "outputs": [],
   "source": [
    "# sigmoid 시그모이드"
   ],
   "metadata": {
    "collapsed": false,
    "ExecuteTime": {
     "end_time": "2023-10-31T06:18:20.428548600Z",
     "start_time": "2023-10-31T06:18:20.416528700Z"
    }
   },
   "id": "46c89996b2865e01"
  },
  {
   "cell_type": "code",
   "execution_count": 15,
   "outputs": [],
   "source": [
    "# e = 2.718182..."
   ],
   "metadata": {
    "collapsed": false,
    "ExecuteTime": {
     "end_time": "2023-10-31T06:43:36.516505700Z",
     "start_time": "2023-10-31T06:43:36.482507Z"
    }
   },
   "id": "54721ea039b9be6d"
  },
  {
   "cell_type": "code",
   "execution_count": 18,
   "outputs": [],
   "source": [
    "from math import e\n",
    "import numpy as np"
   ],
   "metadata": {
    "collapsed": false,
    "ExecuteTime": {
     "end_time": "2023-10-31T06:59:51.203689100Z",
     "start_time": "2023-10-31T06:59:51.173689800Z"
    }
   },
   "id": "d72ec05d24b14853"
  },
  {
   "cell_type": "code",
   "execution_count": 34,
   "outputs": [],
   "source": [
    "x = np.linspace(-10, 10, 1000)\n",
    "y = 1 / (1 + (e ** -x))"
   ],
   "metadata": {
    "collapsed": false,
    "ExecuteTime": {
     "end_time": "2023-10-31T07:02:15.050367100Z",
     "start_time": "2023-10-31T07:02:15.018376700Z"
    }
   },
   "id": "beb3086af7bbb239"
  },
  {
   "cell_type": "code",
   "execution_count": 35,
   "outputs": [],
   "source": [
    "import matplotlib.pyplot as plt"
   ],
   "metadata": {
    "collapsed": false,
    "ExecuteTime": {
     "end_time": "2023-10-31T07:02:15.194235600Z",
     "start_time": "2023-10-31T07:02:15.187234600Z"
    }
   },
   "id": "68645b1c5a98986b"
  },
  {
   "cell_type": "code",
   "execution_count": 36,
   "outputs": [
    {
     "data": {
      "text/plain": "[<matplotlib.lines.Line2D at 0x7effedee6fb0>]"
     },
     "execution_count": 36,
     "metadata": {},
     "output_type": "execute_result"
    },
    {
     "data": {
      "text/plain": "<Figure size 640x480 with 1 Axes>",
      "image/png": "[encoded data removed]"
     },
     "metadata": {},
     "output_type": "display_data"
    }
   ],
   "source": [
    "plt.plot(x, y)"
   ],
   "metadata": {
    "collapsed": false,
    "ExecuteTime": {
     "end_time": "2023-10-31T07:02:15.512831900Z",
     "start_time": "2023-10-31T07:02:15.364743500Z"
    }
   },
   "id": "97760cfac6afcf65"
  },
  {
   "cell_type": "code",
   "execution_count": 37,
   "outputs": [],
   "source": [
    "# 분류를 위한 loss function : Cross Entropy\n",
    "# -(1 - y)*ln(1-y_hat) * y*ln(y_hat)"
   ],
   "metadata": {
    "collapsed": false,
    "ExecuteTime": {
     "end_time": "2023-10-31T07:16:47.082510700Z",
     "start_time": "2023-10-31T07:16:47.073510200Z"
    }
   },
   "id": "e95de72ac059c41c"
  },
  {
   "cell_type": "code",
   "execution_count": 38,
   "outputs": [],
   "source": [
    "# 선형회귀일 때에는 activation 없이, 손실함수는 MSE.\n",
    "# 분류문제일 때에는 activation=sigmoid, 손실함수는 cross-entr."
   ],
   "metadata": {
    "collapsed": false,
    "ExecuteTime": {
     "end_time": "2023-10-31T07:17:24.220463700Z",
     "start_time": "2023-10-31T07:17:24.210469800Z"
    }
   },
   "id": "f3f6c2cb7eeb6391"
  },
  {
   "cell_type": "code",
   "execution_count": 39,
   "outputs": [],
   "source": [
    "# 레이어 하나, 유닛 하나짜리 logistic regression 모델\n",
    "# (0 또는 1의 레이블을 갖는 어떤 데이터셋을 가지고)"
   ],
   "metadata": {
    "collapsed": false,
    "ExecuteTime": {
     "end_time": "2023-10-31T07:18:56.800328900Z",
     "start_time": "2023-10-31T07:18:56.784252Z"
    }
   },
   "id": "304c8fd17ece452"
  },
  {
   "cell_type": "code",
   "execution_count": 41,
   "outputs": [],
   "source": [
    "from keras import Sequential\n",
    "from keras.layers import Dense, Activation"
   ],
   "metadata": {
    "collapsed": false,
    "ExecuteTime": {
     "end_time": "2023-10-31T07:19:40.811453500Z",
     "start_time": "2023-10-31T07:19:40.804459800Z"
    }
   },
   "id": "96f026ecabb2ca2d"
  },
  {
   "cell_type": "code",
   "execution_count": 42,
   "outputs": [],
   "source": [
    "X = np.array([-2, -1.5, -1, 1.25, 1.62, 2])\n",
    "y = np.array([0, 0, 0, 1, 1, 1])"
   ],
   "metadata": {
    "collapsed": false,
    "ExecuteTime": {
     "end_time": "2023-10-31T07:21:08.243807300Z",
     "start_time": "2023-10-31T07:21:08.227784700Z"
    }
   },
   "id": "f11b665bef39c69f"
  },
  {
   "cell_type": "code",
   "execution_count": 44,
   "outputs": [],
   "source": [
    "model = Sequential()\n",
    "model.add(Dense(input_dim=1, units=1))\n",
    "model.add(Activation(\"sigmoid\"))"
   ],
   "metadata": {
    "collapsed": false,
    "ExecuteTime": {
     "end_time": "2023-10-31T07:22:13.801357200Z",
     "start_time": "2023-10-31T07:22:13.781359200Z"
    }
   },
   "id": "882b3662e82bb4e6"
  },
  {
   "cell_type": "code",
   "execution_count": 45,
   "outputs": [
    {
     "name": "stdout",
     "output_type": "stream",
     "text": [
      "Model: \"sequential_1\"\n",
      "_________________________________________________________________\n",
      " Layer (type)                Output Shape              Param #   \n",
      "=================================================================\n",
      " dense_1 (Dense)             (None, 1)                 2         \n",
      "                                                                 \n",
      " activation_1 (Activation)   (None, 1)                 0         \n",
      "                                                                 \n",
      "=================================================================\n",
      "Total params: 2 (8.00 Byte)\n",
      "Trainable params: 2 (8.00 Byte)\n",
      "Non-trainable params: 0 (0.00 Byte)\n",
      "_________________________________________________________________\n"
     ]
    }
   ],
   "source": [
    "model.summary()"
   ],
   "metadata": {
    "collapsed": false,
    "ExecuteTime": {
     "end_time": "2023-10-31T07:22:19.435810200Z",
     "start_time": "2023-10-31T07:22:19.394816400Z"
    }
   },
   "id": "9d03e01be6299ea6"
  },
  {
   "cell_type": "code",
   "execution_count": 46,
   "outputs": [],
   "source": [
    "model.compile(loss=\"binary_crossentropy\",\n",
    "              optimizer=\"sgd\",\n",
    "              metrics=[\"binary_accuracy\"])"
   ],
   "metadata": {
    "collapsed": false,
    "ExecuteTime": {
     "end_time": "2023-10-31T07:23:48.685971700Z",
     "start_time": "2023-10-31T07:23:48.642555300Z"
    }
   },
   "id": "94fb56fe1f381882"
  },
  {
   "cell_type": "code",
   "execution_count": 47,
   "outputs": [
    {
     "name": "stdout",
     "output_type": "stream",
     "text": [
      "Epoch 1/300\n",
      "1/1 [==============================] - 0s 310ms/step - loss: 1.0381 - binary_accuracy: 0.0000e+00\n",
      "Epoch 2/300\n",
      "1/1 [==============================] - 0s 6ms/step - loss: 1.0278 - binary_accuracy: 0.0000e+00\n",
      "Epoch 3/300\n",
      "1/1 [==============================] - 0s 7ms/step - loss: 1.0175 - binary_accuracy: 0.0000e+00\n",
      "Epoch 4/300\n",
      "1/1 [==============================] - 0s 5ms/step - loss: 1.0074 - binary_accuracy: 0.0000e+00\n",
      "Epoch 5/300\n",
      "1/1 [==============================] - 0s 6ms/step - loss: 0.9975 - binary_accuracy: 0.0000e+00\n",
      "Epoch 6/300\n",
      "1/1 [==============================] - 0s 6ms/step - loss: 0.9876 - binary_accuracy: 0.0000e+00\n",
      "Epoch 7/300\n",
      "1/1 [==============================] - 0s 6ms/step - loss: 0.9778 - binary_accuracy: 0.0000e+00\n",
      "Epoch 8/300\n",
      "1/1 [==============================] - 0s 6ms/step - loss: 0.9682 - binary_accuracy: 0.0000e+00\n",
      "Epoch 9/300\n",
      "1/1 [==============================] - 0s 6ms/step - loss: 0.9587 - binary_accuracy: 0.0000e+00\n",
      "Epoch 10/300\n",
      "1/1 [==============================] - 0s 6ms/step - loss: 0.9493 - binary_accuracy: 0.0000e+00\n",
      "Epoch 11/300\n",
      "1/1 [==============================] - 0s 6ms/step - loss: 0.9400 - binary_accuracy: 0.0000e+00\n",
      "Epoch 12/300\n",
      "1/1 [==============================] - 0s 6ms/step - loss: 0.9308 - binary_accuracy: 0.0000e+00\n",
      "Epoch 13/300\n",
      "1/1 [==============================] - 0s 6ms/step - loss: 0.9218 - binary_accuracy: 0.0000e+00\n",
      "Epoch 14/300\n",
      "1/1 [==============================] - 0s 6ms/step - loss: 0.9128 - binary_accuracy: 0.0000e+00\n",
      "Epoch 15/300\n",
      "1/1 [==============================] - 0s 5ms/step - loss: 0.9040 - binary_accuracy: 0.0000e+00\n",
      "Epoch 16/300\n",
      "1/1 [==============================] - 0s 6ms/step - loss: 0.8952 - binary_accuracy: 0.0000e+00\n",
      "Epoch 17/300\n",
      "1/1 [==============================] - 0s 6ms/step - loss: 0.8866 - binary_accuracy: 0.0000e+00\n",
      "Epoch 18/300\n",
      "1/1 [==============================] - 0s 6ms/step - loss: 0.8781 - binary_accuracy: 0.0000e+00\n",
      "Epoch 19/300\n",
      "1/1 [==============================] - 0s 5ms/step - loss: 0.8696 - binary_accuracy: 0.0000e+00\n",
      "Epoch 20/300\n",
      "1/1 [==============================] - 0s 5ms/step - loss: 0.8613 - binary_accuracy: 0.0000e+00\n",
      "Epoch 21/300\n",
      "1/1 [==============================] - 0s 6ms/step - loss: 0.8531 - binary_accuracy: 0.0000e+00\n",
      "Epoch 22/300\n",
      "1/1 [==============================] - 0s 6ms/step - loss: 0.8450 - binary_accuracy: 0.0000e+00\n",
      "Epoch 23/300\n",
      "1/1 [==============================] - 0s 6ms/step - loss: 0.8370 - binary_accuracy: 0.0000e+00\n",
      "Epoch 24/300\n",
      "1/1 [==============================] - 0s 6ms/step - loss: 0.8291 - binary_accuracy: 0.0000e+00\n",
      "Epoch 25/300\n",
      "1/1 [==============================] - 0s 5ms/step - loss: 0.8213 - binary_accuracy: 0.0000e+00\n",
      "Epoch 26/300\n",
      "1/1 [==============================] - 0s 6ms/step - loss: 0.8136 - binary_accuracy: 0.0000e+00\n",
      "Epoch 27/300\n",
      "1/1 [==============================] - 0s 5ms/step - loss: 0.8060 - binary_accuracy: 0.0000e+00\n",
      "Epoch 28/300\n",
      "1/1 [==============================] - 0s 6ms/step - loss: 0.7984 - binary_accuracy: 0.0000e+00\n",
      "Epoch 29/300\n",
      "1/1 [==============================] - 0s 5ms/step - loss: 0.7910 - binary_accuracy: 0.0000e+00\n",
      "Epoch 30/300\n",
      "1/1 [==============================] - 0s 7ms/step - loss: 0.7837 - binary_accuracy: 0.0000e+00\n",
      "Epoch 31/300\n",
      "1/1 [==============================] - 0s 6ms/step - loss: 0.7765 - binary_accuracy: 0.0000e+00\n",
      "Epoch 32/300\n",
      "1/1 [==============================] - 0s 6ms/step - loss: 0.7693 - binary_accuracy: 0.0000e+00\n",
      "Epoch 33/300\n",
      "1/1 [==============================] - 0s 5ms/step - loss: 0.7623 - binary_accuracy: 0.0000e+00\n",
      "Epoch 34/300\n",
      "1/1 [==============================] - 0s 6ms/step - loss: 0.7553 - binary_accuracy: 0.0000e+00\n",
      "Epoch 35/300\n",
      "1/1 [==============================] - 0s 5ms/step - loss: 0.7484 - binary_accuracy: 0.0000e+00\n",
      "Epoch 36/300\n",
      "1/1 [==============================] - 0s 6ms/step - loss: 0.7416 - binary_accuracy: 0.0000e+00\n",
      "Epoch 37/300\n",
      "1/1 [==============================] - 0s 6ms/step - loss: 0.7349 - binary_accuracy: 0.0000e+00\n",
      "Epoch 38/300\n",
      "1/1 [==============================] - 0s 6ms/step - loss: 0.7283 - binary_accuracy: 0.0000e+00\n",
      "Epoch 39/300\n",
      "1/1 [==============================] - 0s 6ms/step - loss: 0.7218 - binary_accuracy: 0.0000e+00\n",
      "Epoch 40/300\n",
      "1/1 [==============================] - 0s 6ms/step - loss: 0.7154 - binary_accuracy: 0.0000e+00\n",
      "Epoch 41/300\n",
      "1/1 [==============================] - 0s 6ms/step - loss: 0.7090 - binary_accuracy: 0.0000e+00\n",
      "Epoch 42/300\n",
      "1/1 [==============================] - 0s 6ms/step - loss: 0.7027 - binary_accuracy: 0.0000e+00\n",
      "Epoch 43/300\n",
      "1/1 [==============================] - 0s 5ms/step - loss: 0.6965 - binary_accuracy: 0.0000e+00\n",
      "Epoch 44/300\n",
      "1/1 [==============================] - 0s 6ms/step - loss: 0.6904 - binary_accuracy: 1.0000\n",
      "Epoch 45/300\n",
      "1/1 [==============================] - 0s 6ms/step - loss: 0.6844 - binary_accuracy: 1.0000\n",
      "Epoch 46/300\n",
      "1/1 [==============================] - 0s 6ms/step - loss: 0.6784 - binary_accuracy: 1.0000\n",
      "Epoch 47/300\n",
      "1/1 [==============================] - 0s 6ms/step - loss: 0.6725 - binary_accuracy: 1.0000\n",
      "Epoch 48/300\n",
      "1/1 [==============================] - 0s 8ms/step - loss: 0.6667 - binary_accuracy: 1.0000\n",
      "Epoch 49/300\n",
      "1/1 [==============================] - 0s 6ms/step - loss: 0.6610 - binary_accuracy: 1.0000\n",
      "Epoch 50/300\n",
      "1/1 [==============================] - 0s 6ms/step - loss: 0.6553 - binary_accuracy: 1.0000\n",
      "Epoch 51/300\n",
      "1/1 [==============================] - 0s 6ms/step - loss: 0.6497 - binary_accuracy: 1.0000\n",
      "Epoch 52/300\n",
      "1/1 [==============================] - 0s 6ms/step - loss: 0.6442 - binary_accuracy: 1.0000\n",
      "Epoch 53/300\n",
      "1/1 [==============================] - 0s 6ms/step - loss: 0.6387 - binary_accuracy: 1.0000\n",
      "Epoch 54/300\n",
      "1/1 [==============================] - 0s 6ms/step - loss: 0.6333 - binary_accuracy: 1.0000\n",
      "Epoch 55/300\n",
      "1/1 [==============================] - 0s 6ms/step - loss: 0.6280 - binary_accuracy: 1.0000\n",
      "Epoch 56/300\n",
      "1/1 [==============================] - 0s 6ms/step - loss: 0.6228 - binary_accuracy: 1.0000\n",
      "Epoch 57/300\n",
      "1/1 [==============================] - 0s 6ms/step - loss: 0.6176 - binary_accuracy: 1.0000\n",
      "Epoch 58/300\n",
      "1/1 [==============================] - 0s 6ms/step - loss: 0.6125 - binary_accuracy: 1.0000\n",
      "Epoch 59/300\n",
      "1/1 [==============================] - 0s 6ms/step - loss: 0.6075 - binary_accuracy: 1.0000\n",
      "Epoch 60/300\n",
      "1/1 [==============================] - 0s 6ms/step - loss: 0.6025 - binary_accuracy: 1.0000\n",
      "Epoch 61/300\n",
      "1/1 [==============================] - 0s 6ms/step - loss: 0.5976 - binary_accuracy: 1.0000\n",
      "Epoch 62/300\n",
      "1/1 [==============================] - 0s 6ms/step - loss: 0.5927 - binary_accuracy: 1.0000\n",
      "Epoch 63/300\n",
      "1/1 [==============================] - 0s 5ms/step - loss: 0.5879 - binary_accuracy: 1.0000\n",
      "Epoch 64/300\n",
      "1/1 [==============================] - 0s 5ms/step - loss: 0.5832 - binary_accuracy: 1.0000\n",
      "Epoch 65/300\n",
      "1/1 [==============================] - 0s 6ms/step - loss: 0.5785 - binary_accuracy: 1.0000\n",
      "Epoch 66/300\n",
      "1/1 [==============================] - 0s 6ms/step - loss: 0.5739 - binary_accuracy: 1.0000\n",
      "Epoch 67/300\n",
      "1/1 [==============================] - 0s 5ms/step - loss: 0.5693 - binary_accuracy: 1.0000\n",
      "Epoch 68/300\n",
      "1/1 [==============================] - 0s 5ms/step - loss: 0.5648 - binary_accuracy: 1.0000\n",
      "Epoch 69/300\n",
      "1/1 [==============================] - 0s 5ms/step - loss: 0.5604 - binary_accuracy: 1.0000\n",
      "Epoch 70/300\n",
      "1/1 [==============================] - 0s 6ms/step - loss: 0.5560 - binary_accuracy: 1.0000\n",
      "Epoch 71/300\n",
      "1/1 [==============================] - 0s 6ms/step - loss: 0.5516 - binary_accuracy: 1.0000\n",
      "Epoch 72/300\n",
      "1/1 [==============================] - 0s 6ms/step - loss: 0.5474 - binary_accuracy: 1.0000\n",
      "Epoch 73/300\n",
      "1/1 [==============================] - 0s 7ms/step - loss: 0.5431 - binary_accuracy: 1.0000\n",
      "Epoch 74/300\n",
      "1/1 [==============================] - 0s 6ms/step - loss: 0.5390 - binary_accuracy: 1.0000\n",
      "Epoch 75/300\n",
      "1/1 [==============================] - 0s 6ms/step - loss: 0.5348 - binary_accuracy: 1.0000\n",
      "Epoch 76/300\n",
      "1/1 [==============================] - 0s 5ms/step - loss: 0.5308 - binary_accuracy: 1.0000\n",
      "Epoch 77/300\n",
      "1/1 [==============================] - 0s 5ms/step - loss: 0.5267 - binary_accuracy: 1.0000\n",
      "Epoch 78/300\n",
      "1/1 [==============================] - 0s 6ms/step - loss: 0.5228 - binary_accuracy: 1.0000\n",
      "Epoch 79/300\n",
      "1/1 [==============================] - 0s 6ms/step - loss: 0.5189 - binary_accuracy: 1.0000\n",
      "Epoch 80/300\n",
      "1/1 [==============================] - 0s 5ms/step - loss: 0.5150 - binary_accuracy: 1.0000\n",
      "Epoch 81/300\n",
      "1/1 [==============================] - 0s 5ms/step - loss: 0.5111 - binary_accuracy: 1.0000\n",
      "Epoch 82/300\n",
      "1/1 [==============================] - 0s 5ms/step - loss: 0.5074 - binary_accuracy: 1.0000\n",
      "Epoch 83/300\n",
      "1/1 [==============================] - 0s 6ms/step - loss: 0.5036 - binary_accuracy: 1.0000\n",
      "Epoch 84/300\n",
      "1/1 [==============================] - 0s 5ms/step - loss: 0.4999 - binary_accuracy: 1.0000\n",
      "Epoch 85/300\n",
      "1/1 [==============================] - 0s 5ms/step - loss: 0.4963 - binary_accuracy: 1.0000\n",
      "Epoch 86/300\n",
      "1/1 [==============================] - 0s 6ms/step - loss: 0.4927 - binary_accuracy: 1.0000\n",
      "Epoch 87/300\n",
      "1/1 [==============================] - 0s 6ms/step - loss: 0.4891 - binary_accuracy: 1.0000\n",
      "Epoch 88/300\n",
      "1/1 [==============================] - 0s 5ms/step - loss: 0.4856 - binary_accuracy: 1.0000\n",
      "Epoch 89/300\n",
      "1/1 [==============================] - 0s 6ms/step - loss: 0.4821 - binary_accuracy: 1.0000\n",
      "Epoch 90/300\n",
      "1/1 [==============================] - 0s 6ms/step - loss: 0.4787 - binary_accuracy: 1.0000\n",
      "Epoch 91/300\n",
      "1/1 [==============================] - 0s 6ms/step - loss: 0.4753 - binary_accuracy: 1.0000\n",
      "Epoch 92/300\n",
      "1/1 [==============================] - 0s 5ms/step - loss: 0.4720 - binary_accuracy: 1.0000\n",
      "Epoch 93/300\n",
      "1/1 [==============================] - 0s 5ms/step - loss: 0.4687 - binary_accuracy: 1.0000\n",
      "Epoch 94/300\n",
      "1/1 [==============================] - 0s 5ms/step - loss: 0.4654 - binary_accuracy: 1.0000\n",
      "Epoch 95/300\n",
      "1/1 [==============================] - 0s 5ms/step - loss: 0.4621 - binary_accuracy: 1.0000\n",
      "Epoch 96/300\n",
      "1/1 [==============================] - 0s 6ms/step - loss: 0.4590 - binary_accuracy: 1.0000\n",
      "Epoch 97/300\n",
      "1/1 [==============================] - 0s 5ms/step - loss: 0.4558 - binary_accuracy: 1.0000\n",
      "Epoch 98/300\n",
      "1/1 [==============================] - 0s 6ms/step - loss: 0.4527 - binary_accuracy: 1.0000\n",
      "Epoch 99/300\n",
      "1/1 [==============================] - 0s 5ms/step - loss: 0.4496 - binary_accuracy: 1.0000\n",
      "Epoch 100/300\n",
      "1/1 [==============================] - 0s 6ms/step - loss: 0.4465 - binary_accuracy: 1.0000\n",
      "Epoch 101/300\n",
      "1/1 [==============================] - 0s 6ms/step - loss: 0.4435 - binary_accuracy: 1.0000\n",
      "Epoch 102/300\n",
      "1/1 [==============================] - 0s 6ms/step - loss: 0.4405 - binary_accuracy: 1.0000\n",
      "Epoch 103/300\n",
      "1/1 [==============================] - 0s 6ms/step - loss: 0.4376 - binary_accuracy: 1.0000\n",
      "Epoch 104/300\n",
      "1/1 [==============================] - 0s 6ms/step - loss: 0.4347 - binary_accuracy: 1.0000\n",
      "Epoch 105/300\n",
      "1/1 [==============================] - 0s 5ms/step - loss: 0.4318 - binary_accuracy: 1.0000\n",
      "Epoch 106/300\n",
      "1/1 [==============================] - 0s 6ms/step - loss: 0.4290 - binary_accuracy: 1.0000\n",
      "Epoch 107/300\n",
      "1/1 [==============================] - 0s 6ms/step - loss: 0.4262 - binary_accuracy: 1.0000\n",
      "Epoch 108/300\n",
      "1/1 [==============================] - 0s 6ms/step - loss: 0.4234 - binary_accuracy: 1.0000\n",
      "Epoch 109/300\n",
      "1/1 [==============================] - 0s 5ms/step - loss: 0.4206 - binary_accuracy: 1.0000\n",
      "Epoch 110/300\n",
      "1/1 [==============================] - 0s 6ms/step - loss: 0.4179 - binary_accuracy: 1.0000\n",
      "Epoch 111/300\n",
      "1/1 [==============================] - 0s 5ms/step - loss: 0.4152 - binary_accuracy: 1.0000\n",
      "Epoch 112/300\n",
      "1/1 [==============================] - 0s 5ms/step - loss: 0.4126 - binary_accuracy: 1.0000\n",
      "Epoch 113/300\n",
      "1/1 [==============================] - 0s 6ms/step - loss: 0.4099 - binary_accuracy: 1.0000\n",
      "Epoch 114/300\n",
      "1/1 [==============================] - 0s 6ms/step - loss: 0.4073 - binary_accuracy: 1.0000\n",
      "Epoch 115/300\n",
      "1/1 [==============================] - 0s 6ms/step - loss: 0.4048 - binary_accuracy: 1.0000\n",
      "Epoch 116/300\n",
      "1/1 [==============================] - 0s 5ms/step - loss: 0.4022 - binary_accuracy: 1.0000\n",
      "Epoch 117/300\n",
      "1/1 [==============================] - 0s 5ms/step - loss: 0.3997 - binary_accuracy: 1.0000\n",
      "Epoch 118/300\n",
      "1/1 [==============================] - 0s 5ms/step - loss: 0.3972 - binary_accuracy: 1.0000\n",
      "Epoch 119/300\n",
      "1/1 [==============================] - 0s 6ms/step - loss: 0.3948 - binary_accuracy: 1.0000\n",
      "Epoch 120/300\n",
      "1/1 [==============================] - 0s 5ms/step - loss: 0.3923 - binary_accuracy: 1.0000\n",
      "Epoch 121/300\n",
      "1/1 [==============================] - 0s 6ms/step - loss: 0.3899 - binary_accuracy: 1.0000\n",
      "Epoch 122/300\n",
      "1/1 [==============================] - 0s 5ms/step - loss: 0.3875 - binary_accuracy: 1.0000\n",
      "Epoch 123/300\n",
      "1/1 [==============================] - 0s 5ms/step - loss: 0.3852 - binary_accuracy: 1.0000\n",
      "Epoch 124/300\n",
      "1/1 [==============================] - 0s 5ms/step - loss: 0.3829 - binary_accuracy: 1.0000\n",
      "Epoch 125/300\n",
      "1/1 [==============================] - 0s 5ms/step - loss: 0.3805 - binary_accuracy: 1.0000\n",
      "Epoch 126/300\n",
      "1/1 [==============================] - 0s 5ms/step - loss: 0.3783 - binary_accuracy: 1.0000\n",
      "Epoch 127/300\n",
      "1/1 [==============================] - 0s 6ms/step - loss: 0.3760 - binary_accuracy: 1.0000\n",
      "Epoch 128/300\n",
      "1/1 [==============================] - 0s 5ms/step - loss: 0.3738 - binary_accuracy: 1.0000\n",
      "Epoch 129/300\n",
      "1/1 [==============================] - 0s 6ms/step - loss: 0.3716 - binary_accuracy: 1.0000\n",
      "Epoch 130/300\n",
      "1/1 [==============================] - 0s 5ms/step - loss: 0.3694 - binary_accuracy: 1.0000\n",
      "Epoch 131/300\n",
      "1/1 [==============================] - 0s 6ms/step - loss: 0.3672 - binary_accuracy: 1.0000\n",
      "Epoch 132/300\n",
      "1/1 [==============================] - 0s 5ms/step - loss: 0.3651 - binary_accuracy: 1.0000\n",
      "Epoch 133/300\n",
      "1/1 [==============================] - 0s 6ms/step - loss: 0.3630 - binary_accuracy: 1.0000\n",
      "Epoch 134/300\n",
      "1/1 [==============================] - 0s 6ms/step - loss: 0.3609 - binary_accuracy: 1.0000\n",
      "Epoch 135/300\n",
      "1/1 [==============================] - 0s 6ms/step - loss: 0.3588 - binary_accuracy: 1.0000\n",
      "Epoch 136/300\n",
      "1/1 [==============================] - 0s 6ms/step - loss: 0.3568 - binary_accuracy: 1.0000\n",
      "Epoch 137/300\n",
      "1/1 [==============================] - 0s 5ms/step - loss: 0.3547 - binary_accuracy: 1.0000\n",
      "Epoch 138/300\n",
      "1/1 [==============================] - 0s 6ms/step - loss: 0.3527 - binary_accuracy: 1.0000\n",
      "Epoch 139/300\n",
      "1/1 [==============================] - 0s 6ms/step - loss: 0.3507 - binary_accuracy: 1.0000\n",
      "Epoch 140/300\n",
      "1/1 [==============================] - 0s 6ms/step - loss: 0.3488 - binary_accuracy: 1.0000\n",
      "Epoch 141/300\n",
      "1/1 [==============================] - 0s 6ms/step - loss: 0.3468 - binary_accuracy: 1.0000\n",
      "Epoch 142/300\n",
      "1/1 [==============================] - 0s 5ms/step - loss: 0.3449 - binary_accuracy: 1.0000\n",
      "Epoch 143/300\n",
      "1/1 [==============================] - 0s 6ms/step - loss: 0.3430 - binary_accuracy: 1.0000\n",
      "Epoch 144/300\n",
      "1/1 [==============================] - 0s 5ms/step - loss: 0.3411 - binary_accuracy: 1.0000\n",
      "Epoch 145/300\n",
      "1/1 [==============================] - 0s 6ms/step - loss: 0.3392 - binary_accuracy: 1.0000\n",
      "Epoch 146/300\n",
      "1/1 [==============================] - 0s 6ms/step - loss: 0.3373 - binary_accuracy: 1.0000\n",
      "Epoch 147/300\n",
      "1/1 [==============================] - 0s 6ms/step - loss: 0.3355 - binary_accuracy: 1.0000\n",
      "Epoch 148/300\n",
      "1/1 [==============================] - 0s 5ms/step - loss: 0.3337 - binary_accuracy: 1.0000\n",
      "Epoch 149/300\n",
      "1/1 [==============================] - 0s 7ms/step - loss: 0.3319 - binary_accuracy: 1.0000\n",
      "Epoch 150/300\n",
      "1/1 [==============================] - 0s 5ms/step - loss: 0.3301 - binary_accuracy: 1.0000\n",
      "Epoch 151/300\n",
      "1/1 [==============================] - 0s 5ms/step - loss: 0.3284 - binary_accuracy: 1.0000\n",
      "Epoch 152/300\n",
      "1/1 [==============================] - 0s 5ms/step - loss: 0.3266 - binary_accuracy: 1.0000\n",
      "Epoch 153/300\n",
      "1/1 [==============================] - 0s 6ms/step - loss: 0.3249 - binary_accuracy: 1.0000\n",
      "Epoch 154/300\n",
      "1/1 [==============================] - 0s 5ms/step - loss: 0.3232 - binary_accuracy: 1.0000\n",
      "Epoch 155/300\n",
      "1/1 [==============================] - 0s 6ms/step - loss: 0.3215 - binary_accuracy: 1.0000\n",
      "Epoch 156/300\n",
      "1/1 [==============================] - 0s 6ms/step - loss: 0.3198 - binary_accuracy: 1.0000\n",
      "Epoch 157/300\n",
      "1/1 [==============================] - 0s 5ms/step - loss: 0.3181 - binary_accuracy: 1.0000\n",
      "Epoch 158/300\n",
      "1/1 [==============================] - 0s 5ms/step - loss: 0.3165 - binary_accuracy: 1.0000\n",
      "Epoch 159/300\n",
      "1/1 [==============================] - 0s 6ms/step - loss: 0.3148 - binary_accuracy: 1.0000\n",
      "Epoch 160/300\n",
      "1/1 [==============================] - 0s 6ms/step - loss: 0.3132 - binary_accuracy: 1.0000\n",
      "Epoch 161/300\n",
      "1/1 [==============================] - 0s 5ms/step - loss: 0.3116 - binary_accuracy: 1.0000\n",
      "Epoch 162/300\n",
      "1/1 [==============================] - 0s 5ms/step - loss: 0.3100 - binary_accuracy: 1.0000\n",
      "Epoch 163/300\n",
      "1/1 [==============================] - 0s 6ms/step - loss: 0.3085 - binary_accuracy: 1.0000\n",
      "Epoch 164/300\n",
      "1/1 [==============================] - 0s 5ms/step - loss: 0.3069 - binary_accuracy: 1.0000\n",
      "Epoch 165/300\n",
      "1/1 [==============================] - 0s 6ms/step - loss: 0.3054 - binary_accuracy: 1.0000\n",
      "Epoch 166/300\n",
      "1/1 [==============================] - 0s 6ms/step - loss: 0.3038 - binary_accuracy: 1.0000\n",
      "Epoch 167/300\n",
      "1/1 [==============================] - 0s 6ms/step - loss: 0.3023 - binary_accuracy: 1.0000\n",
      "Epoch 168/300\n",
      "1/1 [==============================] - 0s 6ms/step - loss: 0.3008 - binary_accuracy: 1.0000\n",
      "Epoch 169/300\n",
      "1/1 [==============================] - 0s 6ms/step - loss: 0.2993 - binary_accuracy: 1.0000\n",
      "Epoch 170/300\n",
      "1/1 [==============================] - 0s 5ms/step - loss: 0.2979 - binary_accuracy: 1.0000\n",
      "Epoch 171/300\n",
      "1/1 [==============================] - 0s 6ms/step - loss: 0.2964 - binary_accuracy: 1.0000\n",
      "Epoch 172/300\n",
      "1/1 [==============================] - 0s 5ms/step - loss: 0.2950 - binary_accuracy: 1.0000\n",
      "Epoch 173/300\n",
      "1/1 [==============================] - 0s 6ms/step - loss: 0.2935 - binary_accuracy: 1.0000\n",
      "Epoch 174/300\n",
      "1/1 [==============================] - 0s 6ms/step - loss: 0.2921 - binary_accuracy: 1.0000\n",
      "Epoch 175/300\n",
      "1/1 [==============================] - 0s 6ms/step - loss: 0.2907 - binary_accuracy: 1.0000\n",
      "Epoch 176/300\n",
      "1/1 [==============================] - 0s 5ms/step - loss: 0.2893 - binary_accuracy: 1.0000\n",
      "Epoch 177/300\n",
      "1/1 [==============================] - 0s 8ms/step - loss: 0.2879 - binary_accuracy: 1.0000\n",
      "Epoch 178/300\n",
      "1/1 [==============================] - 0s 5ms/step - loss: 0.2866 - binary_accuracy: 1.0000\n",
      "Epoch 179/300\n",
      "1/1 [==============================] - 0s 6ms/step - loss: 0.2852 - binary_accuracy: 1.0000\n",
      "Epoch 180/300\n",
      "1/1 [==============================] - 0s 5ms/step - loss: 0.2839 - binary_accuracy: 1.0000\n",
      "Epoch 181/300\n",
      "1/1 [==============================] - 0s 5ms/step - loss: 0.2825 - binary_accuracy: 1.0000\n",
      "Epoch 182/300\n",
      "1/1 [==============================] - 0s 5ms/step - loss: 0.2812 - binary_accuracy: 1.0000\n",
      "Epoch 183/300\n",
      "1/1 [==============================] - 0s 5ms/step - loss: 0.2799 - binary_accuracy: 1.0000\n",
      "Epoch 184/300\n",
      "1/1 [==============================] - 0s 6ms/step - loss: 0.2786 - binary_accuracy: 1.0000\n",
      "Epoch 185/300\n",
      "1/1 [==============================] - 0s 6ms/step - loss: 0.2773 - binary_accuracy: 1.0000\n",
      "Epoch 186/300\n",
      "1/1 [==============================] - 0s 6ms/step - loss: 0.2760 - binary_accuracy: 1.0000\n",
      "Epoch 187/300\n",
      "1/1 [==============================] - 0s 6ms/step - loss: 0.2748 - binary_accuracy: 1.0000\n",
      "Epoch 188/300\n",
      "1/1 [==============================] - 0s 6ms/step - loss: 0.2735 - binary_accuracy: 1.0000\n",
      "Epoch 189/300\n",
      "1/1 [==============================] - 0s 5ms/step - loss: 0.2723 - binary_accuracy: 1.0000\n",
      "Epoch 190/300\n",
      "1/1 [==============================] - 0s 6ms/step - loss: 0.2711 - binary_accuracy: 1.0000\n",
      "Epoch 191/300\n",
      "1/1 [==============================] - 0s 6ms/step - loss: 0.2698 - binary_accuracy: 1.0000\n",
      "Epoch 192/300\n",
      "1/1 [==============================] - 0s 6ms/step - loss: 0.2686 - binary_accuracy: 1.0000\n",
      "Epoch 193/300\n",
      "1/1 [==============================] - 0s 6ms/step - loss: 0.2674 - binary_accuracy: 1.0000\n",
      "Epoch 194/300\n",
      "1/1 [==============================] - 0s 5ms/step - loss: 0.2662 - binary_accuracy: 1.0000\n",
      "Epoch 195/300\n",
      "1/1 [==============================] - 0s 6ms/step - loss: 0.2650 - binary_accuracy: 1.0000\n",
      "Epoch 196/300\n",
      "1/1 [==============================] - 0s 6ms/step - loss: 0.2639 - binary_accuracy: 1.0000\n",
      "Epoch 197/300\n",
      "1/1 [==============================] - 0s 6ms/step - loss: 0.2627 - binary_accuracy: 1.0000\n",
      "Epoch 198/300\n",
      "1/1 [==============================] - 0s 5ms/step - loss: 0.2616 - binary_accuracy: 1.0000\n",
      "Epoch 199/300\n",
      "1/1 [==============================] - 0s 6ms/step - loss: 0.2604 - binary_accuracy: 1.0000\n",
      "Epoch 200/300\n",
      "1/1 [==============================] - 0s 6ms/step - loss: 0.2593 - binary_accuracy: 1.0000\n",
      "Epoch 201/300\n",
      "1/1 [==============================] - 0s 5ms/step - loss: 0.2582 - binary_accuracy: 1.0000\n",
      "Epoch 202/300\n",
      "1/1 [==============================] - 0s 5ms/step - loss: 0.2571 - binary_accuracy: 1.0000\n",
      "Epoch 203/300\n",
      "1/1 [==============================] - 0s 6ms/step - loss: 0.2559 - binary_accuracy: 1.0000\n",
      "Epoch 204/300\n",
      "1/1 [==============================] - 0s 6ms/step - loss: 0.2549 - binary_accuracy: 1.0000\n",
      "Epoch 205/300\n",
      "1/1 [==============================] - 0s 6ms/step - loss: 0.2538 - binary_accuracy: 1.0000\n",
      "Epoch 206/300\n",
      "1/1 [==============================] - 0s 7ms/step - loss: 0.2527 - binary_accuracy: 1.0000\n",
      "Epoch 207/300\n",
      "1/1 [==============================] - 0s 6ms/step - loss: 0.2516 - binary_accuracy: 1.0000\n",
      "Epoch 208/300\n",
      "1/1 [==============================] - 0s 6ms/step - loss: 0.2506 - binary_accuracy: 1.0000\n",
      "Epoch 209/300\n",
      "1/1 [==============================] - 0s 6ms/step - loss: 0.2495 - binary_accuracy: 1.0000\n",
      "Epoch 210/300\n",
      "1/1 [==============================] - 0s 7ms/step - loss: 0.2485 - binary_accuracy: 1.0000\n",
      "Epoch 211/300\n",
      "1/1 [==============================] - 0s 6ms/step - loss: 0.2474 - binary_accuracy: 1.0000\n",
      "Epoch 212/300\n",
      "1/1 [==============================] - 0s 6ms/step - loss: 0.2464 - binary_accuracy: 1.0000\n",
      "Epoch 213/300\n",
      "1/1 [==============================] - 0s 6ms/step - loss: 0.2454 - binary_accuracy: 1.0000\n",
      "Epoch 214/300\n",
      "1/1 [==============================] - 0s 7ms/step - loss: 0.2444 - binary_accuracy: 1.0000\n",
      "Epoch 215/300\n",
      "1/1 [==============================] - 0s 6ms/step - loss: 0.2434 - binary_accuracy: 1.0000\n",
      "Epoch 216/300\n",
      "1/1 [==============================] - 0s 5ms/step - loss: 0.2424 - binary_accuracy: 1.0000\n",
      "Epoch 217/300\n",
      "1/1 [==============================] - 0s 5ms/step - loss: 0.2414 - binary_accuracy: 1.0000\n",
      "Epoch 218/300\n",
      "1/1 [==============================] - 0s 7ms/step - loss: 0.2404 - binary_accuracy: 1.0000\n",
      "Epoch 219/300\n",
      "1/1 [==============================] - 0s 6ms/step - loss: 0.2394 - binary_accuracy: 1.0000\n",
      "Epoch 220/300\n",
      "1/1 [==============================] - 0s 7ms/step - loss: 0.2385 - binary_accuracy: 1.0000\n",
      "Epoch 221/300\n",
      "1/1 [==============================] - 0s 5ms/step - loss: 0.2375 - binary_accuracy: 1.0000\n",
      "Epoch 222/300\n",
      "1/1 [==============================] - 0s 6ms/step - loss: 0.2366 - binary_accuracy: 1.0000\n",
      "Epoch 223/300\n",
      "1/1 [==============================] - 0s 6ms/step - loss: 0.2356 - binary_accuracy: 1.0000\n",
      "Epoch 224/300\n",
      "1/1 [==============================] - 0s 6ms/step - loss: 0.2347 - binary_accuracy: 1.0000\n",
      "Epoch 225/300\n",
      "1/1 [==============================] - 0s 6ms/step - loss: 0.2338 - binary_accuracy: 1.0000\n",
      "Epoch 226/300\n",
      "1/1 [==============================] - 0s 7ms/step - loss: 0.2328 - binary_accuracy: 1.0000\n",
      "Epoch 227/300\n",
      "1/1 [==============================] - 0s 6ms/step - loss: 0.2319 - binary_accuracy: 1.0000\n",
      "Epoch 228/300\n",
      "1/1 [==============================] - 0s 7ms/step - loss: 0.2310 - binary_accuracy: 1.0000\n",
      "Epoch 229/300\n",
      "1/1 [==============================] - 0s 5ms/step - loss: 0.2301 - binary_accuracy: 1.0000\n",
      "Epoch 230/300\n",
      "1/1 [==============================] - 0s 6ms/step - loss: 0.2292 - binary_accuracy: 1.0000\n",
      "Epoch 231/300\n",
      "1/1 [==============================] - 0s 5ms/step - loss: 0.2283 - binary_accuracy: 1.0000\n",
      "Epoch 232/300\n",
      "1/1 [==============================] - 0s 7ms/step - loss: 0.2275 - binary_accuracy: 1.0000\n",
      "Epoch 233/300\n",
      "1/1 [==============================] - 0s 6ms/step - loss: 0.2266 - binary_accuracy: 1.0000\n",
      "Epoch 234/300\n",
      "1/1 [==============================] - 0s 6ms/step - loss: 0.2257 - binary_accuracy: 1.0000\n",
      "Epoch 235/300\n",
      "1/1 [==============================] - 0s 6ms/step - loss: 0.2248 - binary_accuracy: 1.0000\n",
      "Epoch 236/300\n",
      "1/1 [==============================] - 0s 7ms/step - loss: 0.2240 - binary_accuracy: 1.0000\n",
      "Epoch 237/300\n",
      "1/1 [==============================] - 0s 6ms/step - loss: 0.2231 - binary_accuracy: 1.0000\n",
      "Epoch 238/300\n",
      "1/1 [==============================] - 0s 5ms/step - loss: 0.2223 - binary_accuracy: 1.0000\n",
      "Epoch 239/300\n",
      "1/1 [==============================] - 0s 5ms/step - loss: 0.2215 - binary_accuracy: 1.0000\n",
      "Epoch 240/300\n",
      "1/1 [==============================] - 0s 7ms/step - loss: 0.2206 - binary_accuracy: 1.0000\n",
      "Epoch 241/300\n",
      "1/1 [==============================] - 0s 6ms/step - loss: 0.2198 - binary_accuracy: 1.0000\n",
      "Epoch 242/300\n",
      "1/1 [==============================] - 0s 7ms/step - loss: 0.2190 - binary_accuracy: 1.0000\n",
      "Epoch 243/300\n",
      "1/1 [==============================] - 0s 6ms/step - loss: 0.2182 - binary_accuracy: 1.0000\n",
      "Epoch 244/300\n",
      "1/1 [==============================] - 0s 6ms/step - loss: 0.2174 - binary_accuracy: 1.0000\n",
      "Epoch 245/300\n",
      "1/1 [==============================] - 0s 5ms/step - loss: 0.2166 - binary_accuracy: 1.0000\n",
      "Epoch 246/300\n",
      "1/1 [==============================] - 0s 7ms/step - loss: 0.2158 - binary_accuracy: 1.0000\n",
      "Epoch 247/300\n",
      "1/1 [==============================] - 0s 8ms/step - loss: 0.2150 - binary_accuracy: 1.0000\n",
      "Epoch 248/300\n",
      "1/1 [==============================] - 0s 6ms/step - loss: 0.2142 - binary_accuracy: 1.0000\n",
      "Epoch 249/300\n",
      "1/1 [==============================] - 0s 6ms/step - loss: 0.2134 - binary_accuracy: 1.0000\n",
      "Epoch 250/300\n",
      "1/1 [==============================] - 0s 7ms/step - loss: 0.2127 - binary_accuracy: 1.0000\n",
      "Epoch 251/300\n",
      "1/1 [==============================] - 0s 6ms/step - loss: 0.2119 - binary_accuracy: 1.0000\n",
      "Epoch 252/300\n",
      "1/1 [==============================] - 0s 5ms/step - loss: 0.2111 - binary_accuracy: 1.0000\n",
      "Epoch 253/300\n",
      "1/1 [==============================] - 0s 7ms/step - loss: 0.2104 - binary_accuracy: 1.0000\n",
      "Epoch 254/300\n",
      "1/1 [==============================] - 0s 7ms/step - loss: 0.2096 - binary_accuracy: 1.0000\n",
      "Epoch 255/300\n",
      "1/1 [==============================] - 0s 7ms/step - loss: 0.2089 - binary_accuracy: 1.0000\n",
      "Epoch 256/300\n",
      "1/1 [==============================] - 0s 5ms/step - loss: 0.2081 - binary_accuracy: 1.0000\n",
      "Epoch 257/300\n",
      "1/1 [==============================] - 0s 7ms/step - loss: 0.2074 - binary_accuracy: 1.0000\n",
      "Epoch 258/300\n",
      "1/1 [==============================] - 0s 5ms/step - loss: 0.2067 - binary_accuracy: 1.0000\n",
      "Epoch 259/300\n",
      "1/1 [==============================] - 0s 5ms/step - loss: 0.2059 - binary_accuracy: 1.0000\n",
      "Epoch 260/300\n",
      "1/1 [==============================] - 0s 5ms/step - loss: 0.2052 - binary_accuracy: 1.0000\n",
      "Epoch 261/300\n",
      "1/1 [==============================] - 0s 10ms/step - loss: 0.2045 - binary_accuracy: 1.0000\n",
      "Epoch 262/300\n",
      "1/1 [==============================] - 0s 6ms/step - loss: 0.2038 - binary_accuracy: 1.0000\n",
      "Epoch 263/300\n",
      "1/1 [==============================] - 0s 5ms/step - loss: 0.2031 - binary_accuracy: 1.0000\n",
      "Epoch 264/300\n",
      "1/1 [==============================] - 0s 7ms/step - loss: 0.2024 - binary_accuracy: 1.0000\n",
      "Epoch 265/300\n",
      "1/1 [==============================] - 0s 6ms/step - loss: 0.2017 - binary_accuracy: 1.0000\n",
      "Epoch 266/300\n",
      "1/1 [==============================] - 0s 6ms/step - loss: 0.2010 - binary_accuracy: 1.0000\n",
      "Epoch 267/300\n",
      "1/1 [==============================] - 0s 6ms/step - loss: 0.2003 - binary_accuracy: 1.0000\n",
      "Epoch 268/300\n",
      "1/1 [==============================] - 0s 6ms/step - loss: 0.1996 - binary_accuracy: 1.0000\n",
      "Epoch 269/300\n",
      "1/1 [==============================] - 0s 5ms/step - loss: 0.1990 - binary_accuracy: 1.0000\n",
      "Epoch 270/300\n",
      "1/1 [==============================] - 0s 7ms/step - loss: 0.1983 - binary_accuracy: 1.0000\n",
      "Epoch 271/300\n",
      "1/1 [==============================] - 0s 6ms/step - loss: 0.1976 - binary_accuracy: 1.0000\n",
      "Epoch 272/300\n",
      "1/1 [==============================] - 0s 5ms/step - loss: 0.1970 - binary_accuracy: 1.0000\n",
      "Epoch 273/300\n",
      "1/1 [==============================] - 0s 6ms/step - loss: 0.1963 - binary_accuracy: 1.0000\n",
      "Epoch 274/300\n",
      "1/1 [==============================] - 0s 5ms/step - loss: 0.1956 - binary_accuracy: 1.0000\n",
      "Epoch 275/300\n",
      "1/1 [==============================] - 0s 6ms/step - loss: 0.1950 - binary_accuracy: 1.0000\n",
      "Epoch 276/300\n",
      "1/1 [==============================] - 0s 7ms/step - loss: 0.1943 - binary_accuracy: 1.0000\n",
      "Epoch 277/300\n",
      "1/1 [==============================] - 0s 6ms/step - loss: 0.1937 - binary_accuracy: 1.0000\n",
      "Epoch 278/300\n",
      "1/1 [==============================] - 0s 6ms/step - loss: 0.1931 - binary_accuracy: 1.0000\n",
      "Epoch 279/300\n",
      "1/1 [==============================] - 0s 6ms/step - loss: 0.1924 - binary_accuracy: 1.0000\n",
      "Epoch 280/300\n",
      "1/1 [==============================] - 0s 7ms/step - loss: 0.1918 - binary_accuracy: 1.0000\n",
      "Epoch 281/300\n",
      "1/1 [==============================] - 0s 7ms/step - loss: 0.1912 - binary_accuracy: 1.0000\n",
      "Epoch 282/300\n",
      "1/1 [==============================] - 0s 6ms/step - loss: 0.1905 - binary_accuracy: 1.0000\n",
      "Epoch 283/300\n",
      "1/1 [==============================] - 0s 5ms/step - loss: 0.1899 - binary_accuracy: 1.0000\n",
      "Epoch 284/300\n",
      "1/1 [==============================] - 0s 6ms/step - loss: 0.1893 - binary_accuracy: 1.0000\n",
      "Epoch 285/300\n",
      "1/1 [==============================] - 0s 7ms/step - loss: 0.1887 - binary_accuracy: 1.0000\n",
      "Epoch 286/300\n",
      "1/1 [==============================] - 0s 8ms/step - loss: 0.1881 - binary_accuracy: 1.0000\n",
      "Epoch 287/300\n",
      "1/1 [==============================] - 0s 6ms/step - loss: 0.1875 - binary_accuracy: 1.0000\n",
      "Epoch 288/300\n",
      "1/1 [==============================] - 0s 5ms/step - loss: 0.1869 - binary_accuracy: 1.0000\n",
      "Epoch 289/300\n",
      "1/1 [==============================] - 0s 6ms/step - loss: 0.1863 - binary_accuracy: 1.0000\n",
      "Epoch 290/300\n",
      "1/1 [==============================] - 0s 6ms/step - loss: 0.1857 - binary_accuracy: 1.0000\n",
      "Epoch 291/300\n",
      "1/1 [==============================] - 0s 5ms/step - loss: 0.1851 - binary_accuracy: 1.0000\n",
      "Epoch 292/300\n",
      "1/1 [==============================] - 0s 6ms/step - loss: 0.1845 - binary_accuracy: 1.0000\n",
      "Epoch 293/300\n",
      "1/1 [==============================] - 0s 7ms/step - loss: 0.1839 - binary_accuracy: 1.0000\n",
      "Epoch 294/300\n",
      "1/1 [==============================] - 0s 6ms/step - loss: 0.1834 - binary_accuracy: 1.0000\n",
      "Epoch 295/300\n",
      "1/1 [==============================] - 0s 5ms/step - loss: 0.1828 - binary_accuracy: 1.0000\n",
      "Epoch 296/300\n",
      "1/1 [==============================] - 0s 5ms/step - loss: 0.1822 - binary_accuracy: 1.0000\n",
      "Epoch 297/300\n",
      "1/1 [==============================] - 0s 6ms/step - loss: 0.1817 - binary_accuracy: 1.0000\n",
      "Epoch 298/300\n",
      "1/1 [==============================] - 0s 6ms/step - loss: 0.1811 - binary_accuracy: 1.0000\n",
      "Epoch 299/300\n",
      "1/1 [==============================] - 0s 6ms/step - loss: 0.1805 - binary_accuracy: 1.0000\n",
      "Epoch 300/300\n",
      "1/1 [==============================] - 0s 7ms/step - loss: 0.1800 - binary_accuracy: 1.0000\n"
     ]
    },
    {
     "data": {
      "text/plain": "<keras.src.callbacks.History at 0x7effb0424d90>"
     },
     "execution_count": 47,
     "metadata": {},
     "output_type": "execute_result"
    }
   ],
   "source": [
    "model.fit(X, y, epochs=300)"
   ],
   "metadata": {
    "collapsed": false,
    "ExecuteTime": {
     "end_time": "2023-10-31T07:24:16.160197400Z",
     "start_time": "2023-10-31T07:24:13.201195300Z"
    }
   },
   "id": "410897f714921065"
  },
  {
   "cell_type": "code",
   "execution_count": 48,
   "outputs": [
    {
     "name": "stdout",
     "output_type": "stream",
     "text": [
      "1/1 [==============================] - 0s 158ms/step - loss: 0.1794 - binary_accuracy: 1.0000\n"
     ]
    },
    {
     "data": {
      "text/plain": "[0.17942823469638824, 1.0]"
     },
     "execution_count": 48,
     "metadata": {},
     "output_type": "execute_result"
    }
   ],
   "source": [
    "model.evaluate(X, y)"
   ],
   "metadata": {
    "collapsed": false,
    "ExecuteTime": {
     "end_time": "2023-10-31T07:25:13.664972400Z",
     "start_time": "2023-10-31T07:25:13.382381600Z"
    }
   },
   "id": "ca05acb4150463e9"
  },
  {
   "cell_type": "code",
   "execution_count": 50,
   "outputs": [
    {
     "name": "stdout",
     "output_type": "stream",
     "text": [
      "1/1 [==============================] - 0s 32ms/step\n"
     ]
    },
    {
     "data": {
      "text/plain": "array([[0.4959021]], dtype=float32)"
     },
     "execution_count": 50,
     "metadata": {},
     "output_type": "execute_result"
    }
   ],
   "source": [
    "model.predict([0])"
   ],
   "metadata": {
    "collapsed": false,
    "ExecuteTime": {
     "end_time": "2023-10-31T07:25:53.463040800Z",
     "start_time": "2023-10-31T07:25:53.337525500Z"
    }
   },
   "id": "8012c604df748557"
  },
  {
   "cell_type": "code",
   "execution_count": 53,
   "outputs": [
    {
     "data": {
      "text/plain": "[array([[1.0831908]], dtype=float32), array([-0.016392], dtype=float32)]"
     },
     "execution_count": 53,
     "metadata": {},
     "output_type": "execute_result"
    }
   ],
   "source": [
    "model.get_weights()"
   ],
   "metadata": {
    "collapsed": false,
    "ExecuteTime": {
     "end_time": "2023-10-31T07:26:45.262624100Z",
     "start_time": "2023-10-31T07:26:45.221857700Z"
    }
   },
   "id": "ca08b2a5682ad230"
  },
  {
   "cell_type": "code",
   "execution_count": 79,
   "outputs": [
    {
     "name": "stdout",
     "output_type": "stream",
     "text": [
      "1/1 [==============================] - 0s 30ms/step\n",
      "1/1 [==============================] - 0s 26ms/step\n",
      "1/1 [==============================] - 0s 29ms/step\n",
      "1/1 [==============================] - 0s 31ms/step\n",
      "1/1 [==============================] - 0s 28ms/step\n",
      "1/1 [==============================] - 0s 28ms/step\n"
     ]
    },
    {
     "data": {
      "text/plain": "<Figure size 640x480 with 1 Axes>",
      "image/png": "[encoded data removed]"
     },
     "metadata": {},
     "output_type": "display_data"
    }
   ],
   "source": [
    "def sigmoid(x):\n",
    "    return 1 / (1 + (e ** -x))\n",
    "\n",
    "def threshold(x):\n",
    "    if x < 0.5:\n",
    "        return 0\n",
    "    else:\n",
    "        return 1\n",
    "\n",
    "w = model.get_weights()[0]\n",
    "b = model.get_weights()[1]\n",
    "\n",
    "x = np.linspace(-10, 10, 100)\n",
    "y = (np.linspace(-10, 10, 100) *  w + b).reshape(100)\n",
    "\n",
    "plt.plot(x, sigmoid(x))\n",
    "plt.scatter(-10, threshold(model.predict([-10])))\n",
    "plt.scatter(-5, threshold(model.predict([-5])))\n",
    "plt.scatter(-4, threshold(model.predict([-4])))\n",
    "plt.scatter(3, threshold(model.predict([3])))\n",
    "plt.scatter(1, threshold(model.predict([1])))\n",
    "plt.scatter(-1, threshold(model.predict([-1])))\n",
    "plt.show()"
   ],
   "metadata": {
    "collapsed": false,
    "ExecuteTime": {
     "end_time": "2023-10-31T07:45:56.078145900Z",
     "start_time": "2023-10-31T07:45:55.531147600Z"
    }
   },
   "id": "1e3ae243ceb468d6"
  },
  {
   "cell_type": "code",
   "execution_count": null,
   "outputs": [],
   "source": [],
   "metadata": {
    "collapsed": false
   },
   "id": "524b672f6017bd58"
  }
 ],
 "metadata": {
  "kernelspec": {
   "display_name": "Python 3",
   "language": "python",
   "name": "python3"
  },
  "language_info": {
   "codemirror_mode": {
    "name": "ipython",
    "version": 2
   },
   "file_extension": ".py",
   "mimetype": "text/x-python",
   "name": "python",
   "nbconvert_exporter": "python",
   "pygments_lexer": "ipython2",
   "version": "2.7.6"
  }
 },
 "nbformat": 4,
 "nbformat_minor": 5
}
